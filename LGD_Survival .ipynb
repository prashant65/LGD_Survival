{
 "cells": [
  {
   "cell_type": "code",
   "execution_count": 1,
   "id": "cc83d38c-0168-4244-a922-f67996f00f56",
   "metadata": {},
   "outputs": [],
   "source": [
    "import os\n",
    "import pandas as pd\n",
    "import numpy as np\n",
    "import matplotlib.pyplot as plt"
   ]
  },
  {
   "cell_type": "code",
   "execution_count": 2,
   "id": "19683a0c-38f4-4336-8980-871e3bdc73d6",
   "metadata": {},
   "outputs": [],
   "source": [
    "os.chdir(r'C:\\Users\\prashant\\Modelling\\Data')"
   ]
  },
  {
   "cell_type": "code",
   "execution_count": 3,
   "id": "59d1b918-54bb-403b-a94b-d2d1867d9515",
   "metadata": {},
   "outputs": [],
   "source": [
    "ld = pd.read_csv('Loss_Data.csv')"
   ]
  },
  {
   "cell_type": "code",
   "execution_count": null,
   "id": "6694a4e7-f612-4180-be57-a21da254ac80",
   "metadata": {},
   "outputs": [],
   "source": []
  },
  {
   "cell_type": "code",
   "execution_count": null,
   "id": "bae6f5f9-26e7-4b84-899b-cf67f68fff94",
   "metadata": {},
   "outputs": [],
   "source": []
  },
  {
   "cell_type": "code",
   "execution_count": null,
   "id": "b2f78630-4305-4dd0-a3cb-112adc6aea49",
   "metadata": {},
   "outputs": [],
   "source": []
  },
  {
   "cell_type": "code",
   "execution_count": null,
   "id": "202f3eb5-cad5-40ff-961b-3b2c0d261541",
   "metadata": {},
   "outputs": [],
   "source": []
  },
  {
   "cell_type": "code",
   "execution_count": null,
   "id": "25c475c1-c274-4203-a54f-a51a29a51cbe",
   "metadata": {},
   "outputs": [],
   "source": []
  },
  {
   "cell_type": "code",
   "execution_count": null,
   "id": "b67cb790-ecf0-4e2f-8edb-33dcbd018753",
   "metadata": {},
   "outputs": [],
   "source": []
  }
 ],
 "metadata": {
  "kernelspec": {
   "display_name": "modeling",
   "language": "python",
   "name": "modeling"
  },
  "language_info": {
   "codemirror_mode": {
    "name": "ipython",
    "version": 3
   },
   "file_extension": ".py",
   "mimetype": "text/x-python",
   "name": "python",
   "nbconvert_exporter": "python",
   "pygments_lexer": "ipython3",
   "version": "3.9.18"
  }
 },
 "nbformat": 4,
 "nbformat_minor": 5
}
